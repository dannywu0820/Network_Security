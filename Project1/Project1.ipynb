{
 "cells": [
  {
   "cell_type": "markdown",
   "metadata": {},
   "source": [
    "# Project 1. Hacking the Cipher"
   ]
  },
  {
   "cell_type": "code",
   "execution_count": 1,
   "metadata": {
    "collapsed": true
   },
   "outputs": [],
   "source": [
    "from Crypto.PublicKey import RSA #pip3 install pycrypto\n",
    "from Crypto.Hash import SHA256\n",
    "import base64\n",
    "import sys,os,signal\n",
    "import binascii"
   ]
  },
  {
   "cell_type": "markdown",
   "metadata": {},
   "source": [
    "## Step1. extract (n,e) from public key"
   ]
  },
  {
   "cell_type": "code",
   "execution_count": 2,
   "metadata": {
    "collapsed": true
   },
   "outputs": [],
   "source": [
    "# Get public key\n",
    "def getpubkey():\n",
    "    with open('./pub.pem','rb') as f:\n",
    "        pub = f.read()\n",
    "        key = RSA.importKey(pub)\n",
    "    return key"
   ]
  },
  {
   "cell_type": "code",
   "execution_count": 3,
   "metadata": {},
   "outputs": [
    {
     "name": "stdout",
     "output_type": "stream",
     "text": [
      "140816102882370072753963128960517081965880280303822400235001309160195926187868730723645674960568062473761002103307583098926327676818048971808675637139699318767264291797993510624508457914745131902730458707154587694229291440822570657047495880598540768909211668263294445392516077874925310419418057302897080960859\n",
      "65537\n"
     ]
    }
   ],
   "source": [
    "public_key = getpubkey()\n",
    "n = public_key.n\n",
    "e = public_key.e\n",
    "print(n)\n",
    "print(e)"
   ]
  },
  {
   "cell_type": "markdown",
   "metadata": {},
   "source": [
    "## Step2. choose X where X is relatively prime to n"
   ]
  },
  {
   "cell_type": "code",
   "execution_count": 4,
   "metadata": {
    "collapsed": true
   },
   "outputs": [],
   "source": [
    "X = 2"
   ]
  },
  {
   "cell_type": "markdown",
   "metadata": {},
   "source": [
    "## Step3. create Y = C*X^e  mod n"
   ]
  },
  {
   "cell_type": "code",
   "execution_count": 5,
   "metadata": {},
   "outputs": [
    {
     "name": "stdout",
     "output_type": "stream",
     "text": [
      "[C_base64]\n",
      "mPWM4kial8Cp1AuygSB8Cw/dUX7FEKGZi5JEzN/Gc8EVY5N5F6IXU1eW4HiT7rzpkl42lVKMfclMdEruWd1cACE3pSM5YyX/rW06GwlFXwCf59RnlUBPBngTfe3lv5bs0q6S0Sk7Sx81hyaPcSJqEP8xJuBYANEVYyx5eKk2RGs=\n",
      "\n",
      "[C_binary]\n",
      "b'\\x98\\xf5\\x8c\\xe2H\\x9a\\x97\\xc0\\xa9\\xd4\\x0b\\xb2\\x81 |\\x0b\\x0f\\xddQ~\\xc5\\x10\\xa1\\x99\\x8b\\x92D\\xcc\\xdf\\xc6s\\xc1\\x15c\\x93y\\x17\\xa2\\x17SW\\x96\\xe0x\\x93\\xee\\xbc\\xe9\\x92^6\\x95R\\x8c}\\xc9LtJ\\xeeY\\xdd\\\\\\x00!7\\xa5#9c%\\xff\\xadm:\\x1b\\tE_\\x00\\x9f\\xe7\\xd4g\\x95@O\\x06x\\x13}\\xed\\xe5\\xbf\\x96\\xec\\xd2\\xae\\x92\\xd1);K\\x1f5\\x87&\\x8fq\"j\\x10\\xff1&\\xe0X\\x00\\xd1\\x15c,yx\\xa96Dk'\n",
      "[C_int]\n",
      "107411589664209896225829481583990787094843670917636344939604558253137469787750389911783913594224869309288710490805889724202689499487409458735984145989426724091111419507199265319587604793830199606019093026298408310171399889407097206022381966389488695490137520581970580554846929864399816910400116875083719787627\n",
      "[Y_int]\n",
      "112751703606913207461543996302170065560756686799233832471435924281752269142641210065873158726226353358343192039019241600900703934604900354810699150960127115231128907212350384816963039409534755908639047046754338029923760770794459436669801742236014641007268016741632882426755303102469720685557210456331883994340\n"
     ]
    }
   ],
   "source": [
    "file = open('./flag.enc','r')\n",
    "C_base64 = file.read() #\"TWFu\"\n",
    "print('[C_base64]')\n",
    "print(C_base64)\n",
    "\n",
    "#base64 --> binary\n",
    "C_binary = binascii.a2b_base64(C_base64)\n",
    "print('[C_binary]')\n",
    "print(C_binary)\n",
    "\n",
    "#binary --> int\n",
    "C_int = int.from_bytes(C_binary, byteorder='big') #hex: \\x41 binary: 0100 0001 decimal: 65 ascii:'A'\n",
    "print('[C_int]')\n",
    "print(C_int)\n",
    "\n",
    "Y_int = C_int * (X ** e) % n\n",
    "print('[Y_int]')\n",
    "print(Y_int)"
   ]
  },
  {
   "cell_type": "markdown",
   "metadata": {},
   "source": [
    "## Step4. get Z = decrypted Y <br> from 140.113.194.66 8888"
   ]
  },
  {
   "cell_type": "code",
   "execution_count": 6,
   "metadata": {},
   "outputs": [
    {
     "name": "stdout",
     "output_type": "stream",
     "text": [
      "[Y_binary]\n",
      "b'\\x00\\x00\\x00\\x00\\x00\\x00\\x00\\x00\\x00\\x00\\x00\\x00\\x00\\x00\\x00\\x00\\x00\\x00\\x00\\x00\\x00\\x00\\x00\\x00\\x00\\x00\\x00\\x00\\x00\\x00\\x00\\x00\\x00\\x00\\x00\\x00\\x00\\x00\\x00\\x00\\x00\\x00\\x00\\x00\\x00\\x00\\x00\\x00\\x00\\x00\\x00\\x00\\x00\\x00\\x00\\x00\\x00\\x00\\x00\\x00\\x00\\x00\\x00\\x00\\x00\\x00\\x00\\x00\\x00\\x00\\x00\\x00\\x00\\x00\\x00\\x00\\x00\\x00\\x00\\x00\\x00\\x00\\x00\\x00\\x00\\x00\\x00\\x00\\x00\\x00\\x00\\x00\\x00\\x00\\x00\\x00\\x00\\x00\\x00\\x00\\x00\\x00\\x00\\x00\\x00\\x00\\x00\\x00\\x00\\x00\\x00\\x00\\x00\\x00\\x00\\x00\\x00\\x00\\x00\\x00\\x00\\x00\\x00\\x00\\x00\\x00\\x00\\x00\\x00\\x00\\x00\\x00\\x00\\x00\\x00\\x00\\x00\\x00\\x00\\x00\\x00\\x00\\x00\\x00\\x00\\x00\\x00\\x00\\x00\\x00\\x00\\x00\\x00\\x00\\x00\\x00\\x00\\x00\\x00\\x00\\x00\\x00\\x00\\x00\\x00\\x00\\x00\\x00\\x00\\x00\\x00\\x00\\x00\\x00\\x00\\x00\\x00\\x00\\x00\\x00\\x00\\xa0\\x90RJAN\\xec\\xbb\\xae\\xefB\\xc6\\x90\\xd9\\x0f[\\x14\\x9d\\x1chj\\x10\\xc8\\xd0Rk\\xcf\\xfdL\\xcd\\xfcs\\xadk\\x9f\\x0cU\\xef\\xf3\\xb9\\x9dL\\x92\\xc3\\xee \\xd84\\x85\\x12\\xdf\\x13\\x8a\\x1aV^\\x8f\\x10\\xe3\\x93\\xd5\\xc9\\xb6\\xe0\\xb83\\xd2\\xe2hh\\xe8\\xdf\\xdaYC\\xfe\\x86\\x0fI\\xefE(\\x82\\xda+\\x18\\x8b\\x82\\xdf\\xfc\\xc2\\xf6\\xb6\\x90\\xcap\\xc8\\xc2g\\x19/f\\xe9@T\\xab\\x99\\x80\\xf6G\\x89\"}\\xc334~Y\\x15\\xf6\\xcf\\x07\\x9d\\x88ua\\\\\\xe4'\n",
      "[Y_base64]\n",
      "b'AAAAAAAAAAAAAAAAAAAAAAAAAAAAAAAAAAAAAAAAAAAAAAAAAAAAAAAAAAAAAAAAAAAAAAAAAAAAAAAAAAAAAAAAAAAAAAAAAAAAAAAAAAAAAAAAAAAAAAAAAAAAAAAAAAAAAAAAAAAAAAAAAAAAAAAAAAAAAAAAAAAAAAAAAAAAAAAAAAAAAAAAAAAAAAAAAAAAAAAAAAAAAAAAAAAAAAAAAAAAAAAAAAAAAAAAAAAAAAAAAKCQUkpBTuy7ru9CxpDZD1sUnRxoahDI0FJrz/1MzfxzrWufDFXv87mdTJLD7iDYNIUS3xOKGlZejxDjk9XJtuC4M9LiaGjo39pZQ/6GD0nvRSiC2isYi4Lf/ML2tpDKcMjCZxkvZulAVKuZgPZHiSJ9wzM0flkV9s8HnYh1YVzk\\n'\n"
     ]
    }
   ],
   "source": [
    "#Y_int to Y_binary to Y_base64\n",
    "l = len('112751703606913207461543996302170065560756686799233832471435924281752269142641210065873158726226353358343192039019241600900703934604900354810699150960127115231128907212350384816963039409534755908639047046754338029923760770794459436669801742236014641007268016741632882426755303102469720685557210456331883994340')\n",
    "#int --> binary\n",
    "Y_binary = Y_int.to_bytes(length=l, byteorder='big')\n",
    "print('[Y_binary]')\n",
    "print(Y_binary)\n",
    "\n",
    "#binary --> base64\n",
    "Y_base64 = binascii.b2a_base64(Y_binary)\n",
    "print('[Y_base64]')\n",
    "print(Y_base64)"
   ]
  },
  {
   "cell_type": "code",
   "execution_count": 7,
   "metadata": {
    "collapsed": true
   },
   "outputs": [],
   "source": [
    "Z_base64 = 'jJiCjvamYL7yYOq+yGC+1tze7r7o0Ga+xtDeasrcvsZi4NBm5L5o6OjCxtZC+g=='"
   ]
  },
  {
   "cell_type": "markdown",
   "metadata": {},
   "source": [
    "## Step5. find out X inverse"
   ]
  },
  {
   "cell_type": "code",
   "execution_count": 8,
   "metadata": {
    "collapsed": true
   },
   "outputs": [],
   "source": [
    "def egcd(a, b):\n",
    "    if a == 0:\n",
    "        return (b, 0, 1)\n",
    "    else:\n",
    "        g, y, x = egcd(b % a, a)\n",
    "        return (g, x - (b // a) * y, y)\n",
    "\n",
    "def modinv(a, m):\n",
    "    g, x, y = egcd(a, m)\n",
    "    if g != 1:\n",
    "        raise Exception('modular inverse does not exist')\n",
    "    else:\n",
    "        return x % m"
   ]
  },
  {
   "cell_type": "code",
   "execution_count": 9,
   "metadata": {},
   "outputs": [
    {
     "name": "stdout",
     "output_type": "stream",
     "text": [
      "[X_inverse]\n",
      "70408051441185036376981564480258540982940140151911200117500654580097963093934365361822837480284031236880501051653791549463163838409024485904337818569849659383632145898996755312254228957372565951365229353577293847114645720411285328523747940299270384454605834131647222696258038937462655209709028651448540480430\n"
     ]
    }
   ],
   "source": [
    "X_inverse = modinv(X, n)\n",
    "print('[X_inverse]')\n",
    "print(X_inverse)"
   ]
  },
  {
   "cell_type": "code",
   "execution_count": 10,
   "metadata": {},
   "outputs": [
    {
     "data": {
      "text/plain": [
       "1"
      ]
     },
     "execution_count": 10,
     "metadata": {},
     "output_type": "execute_result"
    }
   ],
   "source": [
    "X_inverse * X % n"
   ]
  },
  {
   "cell_type": "markdown",
   "metadata": {},
   "source": [
    "## Step6. P = Z * X^-1 mod n"
   ]
  },
  {
   "cell_type": "code",
   "execution_count": 11,
   "metadata": {},
   "outputs": [
    {
     "name": "stdout",
     "output_type": "stream",
     "text": [
      "[Z_binary]\n",
      "b'\\x8c\\x98\\x82\\x8e\\xf6\\xa6`\\xbe\\xf2`\\xea\\xbe\\xc8`\\xbe\\xd6\\xdc\\xde\\xee\\xbe\\xe8\\xd0f\\xbe\\xc6\\xd0\\xdej\\xca\\xdc\\xbe\\xc6b\\xe0\\xd0f\\xe4\\xbeh\\xe8\\xe8\\xc2\\xc6\\xd6B\\xfa'\n",
      "[Z_int]\n",
      "330195087428528232685061301857839284232245212080702525129455748985589470714103649923711634685994658821647516410\n"
     ]
    },
    {
     "data": {
      "text/plain": [
       "165097543714264116342530650928919642116122606040351262564727874492794735357051824961855817342997329410823758205"
      ]
     },
     "execution_count": 11,
     "metadata": {},
     "output_type": "execute_result"
    }
   ],
   "source": [
    "#base64 --> binary\n",
    "Z_binary = binascii.a2b_base64(Z_base64)\n",
    "print('[Z_binary]')\n",
    "print(Z_binary)\n",
    "\n",
    "#binary --> int\n",
    "Z_int = int.from_bytes(Z_binary, byteorder='big') #hex:\\x41, binary:0100 0001, decimal:65, ascii:'A'\n",
    "print('[Z_int]')\n",
    "print(Z_int)\n",
    "\n",
    "P = Z_int * X_inverse % n\n",
    "P"
   ]
  },
  {
   "cell_type": "code",
   "execution_count": 12,
   "metadata": {},
   "outputs": [
    {
     "data": {
      "text/plain": [
       "b'\\x00\\x00\\x00\\x00FLAG{S0_y0u_d0_know_th3_cho5en_c1ph3r_4ttack!}'"
      ]
     },
     "execution_count": 12,
     "metadata": {},
     "output_type": "execute_result"
    }
   ],
   "source": [
    "P_binary = P.to_bytes(length=50, byteorder='big')\n",
    "P_binary"
   ]
  },
  {
   "cell_type": "code",
   "execution_count": null,
   "metadata": {
    "collapsed": true
   },
   "outputs": [],
   "source": []
  }
 ],
 "metadata": {
  "kernelspec": {
   "display_name": "Python 3",
   "language": "python",
   "name": "python3"
  },
  "language_info": {
   "codemirror_mode": {
    "name": "ipython",
    "version": 3
   },
   "file_extension": ".py",
   "mimetype": "text/x-python",
   "name": "python",
   "nbconvert_exporter": "python",
   "pygments_lexer": "ipython3",
   "version": "3.5.2"
  }
 },
 "nbformat": 4,
 "nbformat_minor": 2
}
